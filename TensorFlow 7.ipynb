{
 "cells": [
  {
   "cell_type": "code",
   "execution_count": 16,
   "id": "6d76aa5f",
   "metadata": {},
   "outputs": [
    {
     "name": "stdout",
     "output_type": "stream",
     "text": [
      "No GPU devices found.\n",
      "[]\n"
     ]
    }
   ],
   "source": [
    "import os\n",
    "os.environ['TF_CPP_MIN_LOG_LEVEL']='2'\n",
    "\n",
    "import tensorflow as tf\n",
    "from tensorflow import keras\n",
    "from tensorflow.keras import layers\n",
    "from tensorflow.keras.datasets import mnist\n",
    "\n",
    "physical_devices = tf.config.list_physical_devices('GPU')\n",
    "if physical_devices:\n",
    "    tf.config.experimental.set_memory_growth(physical_devices[0], True)\n",
    "else:\n",
    "    print(\"No GPU devices found.\")\n",
    "\n",
    "physical_devices = tf.config.list_physical_devices('GPU')\n",
    "print(tf.config.list_physical_devices('GPU'))\n",
    "\n"
   ]
  },
  {
   "cell_type": "code",
   "execution_count": 17,
   "id": "dcdac884",
   "metadata": {},
   "outputs": [],
   "source": [
    "(x_train, y_train), (x_test, y_test) = mnist.load_data()\n",
    "x_train = x_train.reshape(-1, 28*28).astype(\"float32\")/255.0\n",
    "x_test  = x_test.reshape(-1, 28*28).astype(\"float32\")/255.0"
   ]
  },
  {
   "cell_type": "markdown",
   "id": "23ddd783",
   "metadata": {},
   "source": [
    "### Here we make custom model. "
   ]
  },
  {
   "cell_type": "code",
   "execution_count": 23,
   "id": "54a1166d",
   "metadata": {},
   "outputs": [],
   "source": [
    "########    Making layers by my self\n",
    "class Dense(layers.Layer):\n",
    "    #def __init__(self, units, input_dim):\n",
    "    #    super(Dense, self).__init__()\n",
    "    #    self.w = self.add_weight(\n",
    "    #        name = 'w',  # without name we cant save a model\n",
    "    #        shape=(input_dim, units),\n",
    "    #        initializer = 'random_normal',\n",
    "    #        trainable = True,\n",
    "    #    )\n",
    "\n",
    "    def __init__(self, units):\n",
    "        super(Dense, self).__init__()\n",
    "        self.units = units\n",
    "        \n",
    "    def build(self, input_shape):\n",
    "        self.w = self.add_weight(\n",
    "            name = 'w',  # without name we cant save a model\n",
    "            shape=(input_shape[-1], self.units),\n",
    "            initializer = 'random_normal',\n",
    "            trainable = True,\n",
    "        ) \n",
    "        self.b = self.add_weight(\n",
    "            name='b', shape=(self.units, ), initializer = 'zeros',\n",
    "            trainable = True,\n",
    "        )\n",
    "        \n",
    "        \n",
    "    def call(self, inputs):\n",
    "        return tf.matmul(inputs, self.w) + self.b\n",
    "        "
   ]
  },
  {
   "cell_type": "code",
   "execution_count": 26,
   "id": "384f1c3d",
   "metadata": {},
   "outputs": [],
   "source": [
    "class MyReLU(layers.Layer):\n",
    "    def __init__(self):\n",
    "        super(MyReLU, self).__init__()\n",
    "        \n",
    "    def call(self, x):\n",
    "        return tf.math.maximum(x, 0)\n",
    "    \n",
    "# tf.math is already existing funciton"
   ]
  },
  {
   "cell_type": "code",
   "execution_count": 28,
   "id": "3850a52b",
   "metadata": {},
   "outputs": [
    {
     "name": "stdout",
     "output_type": "stream",
     "text": [
      "Epoch 1/2\n",
      "1875/1875 - 6s - loss: 0.3372 - 6s/epoch - 3ms/step\n",
      "Epoch 2/2\n",
      "1875/1875 - 6s - loss: 0.1582 - 6s/epoch - 3ms/step\n",
      "313/313 - 1s - loss: 0.1377 - 966ms/epoch - 3ms/step\n"
     ]
    },
    {
     "data": {
      "text/plain": [
       "0.13767801225185394"
      ]
     },
     "execution_count": 28,
     "metadata": {},
     "output_type": "execute_result"
    }
   ],
   "source": [
    "class MyModel(keras.Model):\n",
    "    def __init__(self, num_classes=10):\n",
    "        super(MyModel, self).__init__()\n",
    "        self.dense1 = Dense(64)\n",
    "        self.dense2 = Dense(num_classes)\n",
    "        self.relu=MyReLU()    # this is used in line number 11\n",
    "        # self.dense1 = layers.Dense(64)\n",
    "        # self.dense2 = layers.Dense(num_classes)\n",
    "        \n",
    "    def call(self, input_tensor):\n",
    "        x=self.relu(self.dense1(input_tensor))\n",
    "        return self.dense2(x)\n",
    "    \n",
    "model=MyModel()\n",
    "model.compile(\n",
    "    loss=keras.losses.SparseCategoricalCrossentropy(from_logits=True),\n",
    "    optimizer=keras.optimizers.Adam(),\n",
    "    \n",
    ")\n",
    "\n",
    "model.fit(x_train, y_train, batch_size=32, epochs=2, verbose=2)\n",
    "model.evaluate(x_test, y_test, batch_size=32, verbose=2)"
   ]
  },
  {
   "cell_type": "code",
   "execution_count": null,
   "id": "76be2d6a",
   "metadata": {},
   "outputs": [],
   "source": []
  },
  {
   "cell_type": "code",
   "execution_count": null,
   "id": "e14b742c",
   "metadata": {},
   "outputs": [],
   "source": []
  }
 ],
 "metadata": {
  "kernelspec": {
   "display_name": "Python 3 (ipykernel)",
   "language": "python",
   "name": "python3"
  },
  "language_info": {
   "codemirror_mode": {
    "name": "ipython",
    "version": 3
   },
   "file_extension": ".py",
   "mimetype": "text/x-python",
   "name": "python",
   "nbconvert_exporter": "python",
   "pygments_lexer": "ipython3",
   "version": "3.10.9"
  }
 },
 "nbformat": 4,
 "nbformat_minor": 5
}
