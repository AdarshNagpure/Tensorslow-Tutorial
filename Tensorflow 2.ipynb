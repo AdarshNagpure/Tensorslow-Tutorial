{
 "cells": [
  {
   "cell_type": "code",
   "execution_count": 25,
   "id": "549080f5",
   "metadata": {},
   "outputs": [],
   "source": [
    "import os\n",
    "os.environ['TFF_CPP_MIN_LOG_LEVEL'] = '2'\n",
    "import tensorflow as tf\n",
    "from tensorflow import keras\n",
    "from tensorflow.keras import layers\n",
    "from tensorflow.keras.datasets import mnist"
   ]
  },
  {
   "cell_type": "code",
   "execution_count": 26,
   "id": "95fdf72d",
   "metadata": {},
   "outputs": [
    {
     "name": "stdout",
     "output_type": "stream",
     "text": [
      "[]\n"
     ]
    }
   ],
   "source": [
    "# following lines are just needed if in case there is issue to run on GPU\n",
    "physical_devices = tf.config.list_physical_devices('GPU')\n",
    "print(tf.config.list_physical_devices('GPU'))\n"
   ]
  },
  {
   "cell_type": "code",
   "execution_count": 27,
   "id": "76bbddf8",
   "metadata": {},
   "outputs": [
    {
     "name": "stdout",
     "output_type": "stream",
     "text": [
      "(60000, 28, 28)\n",
      "(60000,)\n"
     ]
    }
   ],
   "source": [
    "(x_train, y_train), (x_test, y_test) = mnist.load_data()\n",
    "print(x_train.shape)\n",
    "print(y_train.shape)"
   ]
  },
  {
   "cell_type": "code",
   "execution_count": 28,
   "id": "e525cdeb",
   "metadata": {},
   "outputs": [],
   "source": [
    "x_train = x_train.reshape(-1, 28*28).astype(\"float32\") / 255.0   # \n",
    "x_test = x_test.reshape(-1, 28*28).astype(\"float32\") / 255.0\n",
    "\n",
    "# x_train = tf.convert_to_tensor(x_train, ) --> this conversion will just happen automatically so no need to write it anyways\n"
   ]
  },
  {
   "cell_type": "code",
   "execution_count": 32,
   "id": "0a39a62f",
   "metadata": {},
   "outputs": [
    {
     "ename": "IndentationError",
     "evalue": "unindent does not match any outer indentation level (<tokenize>, line 39)",
     "output_type": "error",
     "traceback": [
      "\u001b[1;36m  File \u001b[1;32m<tokenize>:39\u001b[1;36m\u001b[0m\n\u001b[1;33m    model_loss = keras.losses.SparseCategoricalCrossentropy(from_logits = True),\u001b[0m\n\u001b[1;37m    ^\u001b[0m\n\u001b[1;31mIndentationError\u001b[0m\u001b[1;31m:\u001b[0m unindent does not match any outer indentation level\n"
     ]
    }
   ],
   "source": [
    "##### Sequential API (convinient but not flexible)\n",
    "model = keras.Sequential(\n",
    "    [\n",
    "        keras.Input(shape=(28*28)),\n",
    "        layers.Dense(512, activation = 'relu'),\n",
    "        layers.Dense(216, activation = 'relu'),\n",
    "        layers.Dense(10), \n",
    "    ]\n",
    ")\n",
    "\n",
    "model = keras.Sequential()\n",
    "model.add(keras.Input(shape=(784)))\n",
    "model.add(layers.Dense(512, activation='relu'))\n",
    "print(model.summary())\n",
    "model.add(layers.Dense(256, activation='relu', name='my_layer'))\n",
    "model.add(layers.Dense(10))\n",
    "\n",
    "# model = keras.Model(inputs=model.inputs, \n",
    "                    outputs=[model.get_layer('my_layer').output])\n",
    "model = keras.Model(inputs=model.inputs, \n",
    "                    outputs=[layer.output for layer in model.layers])\n",
    "features = model.predict(x_train)\n",
    "\n",
    "for feature inn features:\n",
    "    print(feature.shape)\n",
    "\n",
    "###### Functional API (A bit more flexible)\n",
    "inputs = keras.Input(shape=(784))\n",
    "x = layers.Dense(512, activation='relu')(inputs)\n",
    "x = layers.Dense(256, activation='relu')(x)\n",
    "outputs = layers.Dense(10, activation='softmax')(x)\n",
    "moedl = keras.Model(inputs=inputs, outputs=outputs)\n",
    "\n",
    " \n",
    "import sys\n",
    "sys.exit()\n",
    "\n",
    "model.compile(\n",
    "    model_loss = keras.losses.SparseCategoricalCrossentropy(from_logits = True),\n",
    "    optimizer=keras.optimizers.Adam(lr = 0.001),\n",
    "    metrics=[\"accuracy\"],\n",
    ")\n",
    "\n",
    "# print(model.summary())\n",
    "\n",
    "\n",
    "model.fit(x_train, y_train, batch_size = 32, epochs=5, verbose=2)\n",
    "model.evaluate(x_test, y_test, batch_size=32, verbose=2)"
   ]
  },
  {
   "cell_type": "code",
   "execution_count": null,
   "id": "ad076113",
   "metadata": {},
   "outputs": [],
   "source": []
  },
  {
   "cell_type": "code",
   "execution_count": null,
   "id": "6ec48e46",
   "metadata": {},
   "outputs": [],
   "source": []
  },
  {
   "cell_type": "code",
   "execution_count": null,
   "id": "9bf9de3e",
   "metadata": {},
   "outputs": [],
   "source": []
  },
  {
   "cell_type": "code",
   "execution_count": null,
   "id": "31e6b0da",
   "metadata": {},
   "outputs": [],
   "source": []
  }
 ],
 "metadata": {
  "kernelspec": {
   "display_name": "Python 3 (ipykernel)",
   "language": "python",
   "name": "python3"
  },
  "language_info": {
   "codemirror_mode": {
    "name": "ipython",
    "version": 3
   },
   "file_extension": ".py",
   "mimetype": "text/x-python",
   "name": "python",
   "nbconvert_exporter": "python",
   "pygments_lexer": "ipython3",
   "version": "3.10.9"
  }
 },
 "nbformat": 4,
 "nbformat_minor": 5
}
